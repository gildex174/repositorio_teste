{
 "cells": [
  {
   "cell_type": "code",
   "execution_count": 11,
   "id": "90d4e208",
   "metadata": {},
   "outputs": [],
   "source": [
    "from bokeh.plotting import figure, show\n",
    "from bokeh.models import ColumnDataSource, CustomJS\n",
    "from bokeh.models.tools import PointDrawTool\n",
    "from bokeh.transform import factor_cmap\n",
    "import numpy as np\n",
    "from IPython.display import display, Image\n"
   ]
  },
  {
   "cell_type": "code",
   "execution_count": 3,
   "id": "646b65e8",
   "metadata": {},
   "outputs": [],
   "source": [
    "np.random.seed(196808)\n",
    "\n",
    "x1 = [1, 1]\n",
    "x2 = [-1, -1]\n",
    "\n",
    "points = np.random.randn(10, 2)\n"
   ]
  },
  {
   "cell_type": "code",
   "execution_count": 6,
   "id": "4a4cc5ed",
   "metadata": {},
   "outputs": [],
   "source": [
    "dist_x1 = np.linalg.norm(points - x1, axis=1)\n",
    "dist_x2 = np.linalg.norm(points - x2, axis=1)\n",
    "\n",
    "colors = ['x1' if dist_x1[i] < dist_x2[i] else 'x2' for i in range(len(points))]\n",
    "\n",
    "source = ColumnDataSource(data={'x': points[:, 0], \n",
    "                                'y': points[:, 1], \n",
    "                                'color': colors})"
   ]
  },
  {
   "cell_type": "code",
   "execution_count": 7,
   "id": "ce004065",
   "metadata": {},
   "outputs": [
    {
     "data": {
      "text/html": [
       "<div style=\"display: table;\"><div style=\"display: table-row;\"><div style=\"display: table-cell;\"><b title=\"bokeh.models.renderers.glyph_renderer.GlyphRenderer\">GlyphRenderer</b>(</div><div style=\"display: table-cell;\">id&nbsp;=&nbsp;'p1066', <span id=\"p1070\" style=\"cursor: pointer;\">&hellip;)</span></div></div><div class=\"p1069\" style=\"display: none;\"><div style=\"display: table-cell;\"></div><div style=\"display: table-cell;\">coordinates&nbsp;=&nbsp;None,</div></div><div class=\"p1069\" style=\"display: none;\"><div style=\"display: table-cell;\"></div><div style=\"display: table-cell;\">data_source&nbsp;=&nbsp;ColumnDataSource(id='p1060', ...),</div></div><div class=\"p1069\" style=\"display: none;\"><div style=\"display: table-cell;\"></div><div style=\"display: table-cell;\">glyph&nbsp;=&nbsp;Scatter(id='p1063', ...),</div></div><div class=\"p1069\" style=\"display: none;\"><div style=\"display: table-cell;\"></div><div style=\"display: table-cell;\">group&nbsp;=&nbsp;None,</div></div><div class=\"p1069\" style=\"display: none;\"><div style=\"display: table-cell;\"></div><div style=\"display: table-cell;\">hover_glyph&nbsp;=&nbsp;None,</div></div><div class=\"p1069\" style=\"display: none;\"><div style=\"display: table-cell;\"></div><div style=\"display: table-cell;\">js_event_callbacks&nbsp;=&nbsp;{},</div></div><div class=\"p1069\" style=\"display: none;\"><div style=\"display: table-cell;\"></div><div style=\"display: table-cell;\">js_property_callbacks&nbsp;=&nbsp;{},</div></div><div class=\"p1069\" style=\"display: none;\"><div style=\"display: table-cell;\"></div><div style=\"display: table-cell;\">level&nbsp;=&nbsp;'glyph',</div></div><div class=\"p1069\" style=\"display: none;\"><div style=\"display: table-cell;\"></div><div style=\"display: table-cell;\">muted&nbsp;=&nbsp;False,</div></div><div class=\"p1069\" style=\"display: none;\"><div style=\"display: table-cell;\"></div><div style=\"display: table-cell;\">muted_glyph&nbsp;=&nbsp;Scatter(id='p1065', ...),</div></div><div class=\"p1069\" style=\"display: none;\"><div style=\"display: table-cell;\"></div><div style=\"display: table-cell;\">name&nbsp;=&nbsp;None,</div></div><div class=\"p1069\" style=\"display: none;\"><div style=\"display: table-cell;\"></div><div style=\"display: table-cell;\">nonselection_glyph&nbsp;=&nbsp;Scatter(id='p1064', ...),</div></div><div class=\"p1069\" style=\"display: none;\"><div style=\"display: table-cell;\"></div><div style=\"display: table-cell;\">propagate_hover&nbsp;=&nbsp;False,</div></div><div class=\"p1069\" style=\"display: none;\"><div style=\"display: table-cell;\"></div><div style=\"display: table-cell;\">selection_glyph&nbsp;=&nbsp;'auto',</div></div><div class=\"p1069\" style=\"display: none;\"><div style=\"display: table-cell;\"></div><div style=\"display: table-cell;\">subscribed_events&nbsp;=&nbsp;PropertyValueSet(),</div></div><div class=\"p1069\" style=\"display: none;\"><div style=\"display: table-cell;\"></div><div style=\"display: table-cell;\">syncable&nbsp;=&nbsp;True,</div></div><div class=\"p1069\" style=\"display: none;\"><div style=\"display: table-cell;\"></div><div style=\"display: table-cell;\">tags&nbsp;=&nbsp;[],</div></div><div class=\"p1069\" style=\"display: none;\"><div style=\"display: table-cell;\"></div><div style=\"display: table-cell;\">view&nbsp;=&nbsp;CDSView(id='p1067', ...),</div></div><div class=\"p1069\" style=\"display: none;\"><div style=\"display: table-cell;\"></div><div style=\"display: table-cell;\">visible&nbsp;=&nbsp;True,</div></div><div class=\"p1069\" style=\"display: none;\"><div style=\"display: table-cell;\"></div><div style=\"display: table-cell;\">x_range_name&nbsp;=&nbsp;'default',</div></div><div class=\"p1069\" style=\"display: none;\"><div style=\"display: table-cell;\"></div><div style=\"display: table-cell;\">y_range_name&nbsp;=&nbsp;'default')</div></div></div>\n",
       "<script>\n",
       "(function() {\n",
       "  let expanded = false;\n",
       "  const ellipsis = document.getElementById(\"p1070\");\n",
       "  ellipsis.addEventListener(\"click\", function() {\n",
       "    const rows = document.getElementsByClassName(\"p1069\");\n",
       "    for (let i = 0; i < rows.length; i++) {\n",
       "      const el = rows[i];\n",
       "      el.style.display = expanded ? \"none\" : \"table-row\";\n",
       "    }\n",
       "    ellipsis.innerHTML = expanded ? \"&hellip;)\" : \"&lsaquo;&lsaquo;&lsaquo;\";\n",
       "    expanded = !expanded;\n",
       "  });\n",
       "})();\n",
       "</script>\n"
      ],
      "text/plain": [
       "GlyphRenderer(id='p1066', ...)"
      ]
     },
     "execution_count": 7,
     "metadata": {},
     "output_type": "execute_result"
    }
   ],
   "source": [
    "p = figure()\n",
    "renderer = p.scatter('x', 'y', source=source, fill_color=factor_cmap('color', ['blue', 'red'], ['x1', 'x2']), size=12, alpha=0.6)\n",
    "p.scatter(x=[1,-1], y=[1,-1], marker='inverted_triangle', color='green', size =15, alpha=0.9)"
   ]
  },
  {
   "cell_type": "code",
   "execution_count": 8,
   "id": "ec221a52",
   "metadata": {},
   "outputs": [],
   "source": [
    "callback = CustomJS(args=dict(source=source), code=\"\"\"\n",
    "\n",
    "    const data = source.data;\n",
    "    const points_x = data['x'];\n",
    "    const points_y = data['y'];\n",
    "\n",
    "    const color = data['color'];\n",
    "\n",
    "    const x1 = [1, 1];  // Pontos de referência\n",
    "    const x2 = [-1, -1];  // Pontos de referência\n",
    "    \n",
    "    // Recalcula as distâncias dos pontos em relação a x1 e x2\n",
    "    for (let i = 0; i < points_x.length; i++) {\n",
    "    \n",
    "        const dist_x1 = Math.sqrt((points_x[i] - x1[0])**2 + (points_y[i] - x1[1])**2);\n",
    "        const dist_x2 = Math.sqrt((points_x[i] - x2[0])**2 + (points_y[i] - x2[1])**2);\n",
    "\n",
    "        // Atualiza a cor com base na menor distância\n",
    "        if (dist_x1 < dist_x2) {\n",
    "            color[i] = 'x1';\n",
    "        } else {\n",
    "            color[i] = 'x2';\n",
    "        }\n",
    "\n",
    "    }\n",
    "    \n",
    "    source.change.emit();\n",
    "\"\"\")"
   ]
  },
  {
   "cell_type": "code",
   "execution_count": 9,
   "id": "93dcf0a2",
   "metadata": {},
   "outputs": [],
   "source": [
    "draw_tool = PointDrawTool(renderers=[renderer], empty_value='blue', add=True)\n",
    "\n",
    "source.js_on_change(\"data\", callback)\n",
    "draw_tool.js_on_change('renderers', callback)\n"
   ]
  },
  {
   "cell_type": "code",
   "execution_count": 10,
   "id": "70a24796",
   "metadata": {},
   "outputs": [
    {
     "name": "stdout",
     "output_type": "stream",
     "text": [
      "Opening in existing browser session.\n"
     ]
    },
    {
     "name": "stderr",
     "output_type": "stream",
     "text": [
      "libva error: vaGetDriverNameByIndex() failed with unknown libva error, driver_name = (null)\n"
     ]
    }
   ],
   "source": [
    "p.add_tools(draw_tool)\n",
    "p.toolbar.active_tap = draw_tool\n",
    "\n",
    "\n",
    "# Exibe o gráfico\n",
    "show(p)"
   ]
  },
  {
   "cell_type": "code",
   "execution_count": 12,
   "id": "93f15388",
   "metadata": {},
   "outputs": [
    {
     "data": {
      "image/png": "[encoded data removed]",
      "text/plain": [
       "<IPython.core.display.Image object>"
      ]
     },
     "metadata": {},
     "output_type": "display_data"
    }
   ],
   "source": [
    "imagem_local = Image(filename='cores.png')\n",
    "display(imagem_local)"
   ]
  }
 ],
 "metadata": {
  "kernelspec": {
   "display_name": "Python 3 (ipykernel)",
   "language": "python",
   "name": "python3"
  },
  "language_info": {
   "codemirror_mode": {
    "name": "ipython",
    "version": 3
   },
   "file_extension": ".py",
   "mimetype": "text/x-python",
   "name": "python",
   "nbconvert_exporter": "python",
   "pygments_lexer": "ipython3",
   "version": "3.10.6"
  }
 },
 "nbformat": 4,
 "nbformat_minor": 5
}
